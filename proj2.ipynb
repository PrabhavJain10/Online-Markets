{
 "cells": [
  {
   "cell_type": "code",
   "execution_count": 125,
   "metadata": {},
   "outputs": [],
   "source": [
    "import pandas as pd\n",
    "import numpy as np\n",
    "import matplotlib.pyplot as plt\n",
    "import random\n",
    "import math\n",
    "from scipy.stats import bernoulli, binom"
   ]
  },
  {
   "attachments": {},
   "cell_type": "markdown",
   "metadata": {},
   "source": [
    "# Part 1: Empirical Learning Rates for the Exponential Weights Algorithm"
   ]
  },
  {
   "cell_type": "code",
   "execution_count": 122,
   "metadata": {},
   "outputs": [],
   "source": [
    "class EWAlg:\n",
    "    def __init__(self, epsilon, k, h):\n",
    "        self.weights = np.ones(k)\n",
    "        self.payoffs = np.zeros(k)\n",
    "        self.h = h\n",
    "        self.k = k\n",
    "        self.epsilon = epsilon\n",
    "        self.sumWeights = np.sum(self.weights)\n",
    "        self.probs = self.weights/self.sumWeights\n",
    "\n",
    "    def getAction(self):\n",
    "        j = np.random.choice(self.k, 1, p = self.probs)\n",
    "        return j.item()\n",
    "    \n",
    "    def update(self, payoffs):\n",
    "        for j in range(len(payoffs)):\n",
    "            curPayoff = payoffs[j]\n",
    "            self.payoffs[j] = self.payoffs[j] + curPayoff\n",
    "            newWeight = (1+self.epsilon)**(self.payoffs[j]/self.h)\n",
    "            self.weights[j] = newWeight\n",
    "        self.sumWeights = np.sum(self.weights)\n",
    "        self.probs = self.weights/self.sumWeights\n",
    "        return"
   ]
  },
  {
   "attachments": {},
   "cell_type": "markdown",
   "metadata": {},
   "source": [
    "## Adversarial Fair Playoffs"
   ]
  },
  {
   "attachments": {},
   "cell_type": "markdown",
   "metadata": {},
   "source": [
    "In each round i:\n",
    "\n",
    "Draw a payoff x ~ U[0,1] (i.e., from the uniform distribution on interval [0,1])\n",
    "\n",
    "Assign this payoff to the action j* that has the smallest total payoff so far, i.e., j* = argminj Vji-1 where Vji = Σir=1 vji. \n",
    "(All other actions get 0 payoff in round i.)"
   ]
  },
  {
   "cell_type": "code",
   "execution_count": 124,
   "metadata": {},
   "outputs": [
    {
     "name": "stdout",
     "output_type": "stream",
     "text": [
      "[0, 0.1, 0.1517, 0.2, 0.4, 0.6, 0.9, 1.5, 4, 100]\n",
      "[99.78362498821083, 97.06588871794594, 96.69334793772201, 94.601482178476, 90.54497551040038, 87.97257700243796, 84.18906211784811, 76.36223572753096, 61.82921488266603, 21.370843055415985]\n",
      "[0.03536252535241939, 0.06369790588813184, 0.06447168656262929, 0.08830487969886638, 0.12786208941140625, 0.15173943718852717, 0.19118807634729307, 0.2702902367503487, 0.4148605477995773, 0.8202424557385144]\n"
     ]
    }
   ],
   "source": [
    "h = 1 # fixed\n",
    "# hyperparameters\n",
    "k = 5\n",
    "n = 100\n",
    "epsilons = [0, 0.1, 0.1517, 0.2, 0.4, 0.6, 0.9, 1.5, 4, 100] # to be studied\n",
    "monteCarloBound = 1000\n",
    "\n",
    "avgPayoffs = []\n",
    "avgRegrets = []\n",
    "for epsilon in epsilons:\n",
    "    sumPayoff = 0\n",
    "    sumRegret = 0   \n",
    "    for i in range(monteCarloBound):\n",
    "        alg = EWAlg(epsilon, k, h)\n",
    "        totalPayoffs = np.zeros(k)\n",
    "        myPayoff = 0\n",
    "        for i in range(n):\n",
    "            # generate adversarial payoffs\n",
    "            adversarialPayoffs = np.zeros(k)\n",
    "            x = np.random.rand(1)\n",
    "            least = np.argmin(totalPayoffs)\n",
    "            adversarialPayoffs[least] = x\n",
    "            totalPayoffs = totalPayoffs + adversarialPayoffs\n",
    "            j = alg.getAction()\n",
    "            myPayoff += adversarialPayoffs[j]\n",
    "            alg.update(adversarialPayoffs)\n",
    "\n",
    "        OPT = max(totalPayoffs)\n",
    "        regret = (OPT - myPayoff).item() / n\n",
    "        sumPayoff += myPayoff\n",
    "        sumRegret += regret\n",
    "    avgPayoffs.append(sumPayoff/n)\n",
    "    avgRegrets.append(sumRegret/n)\n",
    "\n",
    "print(epsilons)\n",
    "print(avgPayoffs)\n",
    "print(avgRegrets)"
   ]
  },
  {
   "cell_type": "code",
   "execution_count": 143,
   "metadata": {},
   "outputs": [
    {
     "name": "stdout",
     "output_type": "stream",
     "text": [
      "[0, 0.1, 0.1517, 0.2, 0.4, 0.6, 0.9, 1.5, 4, 100]\n",
      "[247.03, 325.97, 352.0, 363.78, 392.33, 403.64, 408.36, 415.5, 420.89, 427.35]\n",
      "[2.260699999999998, 1.4889000000000012, 1.226599999999999, 1.0959999999999988, 0.8125000000000004, 0.6921000000000005, 0.6348000000000009, 0.5774000000000002, 0.5265000000000001, 0.4776000000000004]\n"
     ]
    }
   ],
   "source": [
    "h = 1 # fixed\n",
    "# hyperparameters\n",
    "k = 10\n",
    "n = 100\n",
    "epsilons = [0, 0.1, 0.1517, 0.2, 0.4, 0.6, 0.9, 1.5, 4, 100] # to be studied\n",
    "monteCarloBound = 1000\n",
    "\n",
    "avgPayoffs = []\n",
    "avgRegrets = []\n",
    "for epsilon in epsilons:\n",
    "    sumPayoff = 0\n",
    "    sumRegret = 0   \n",
    "    for i in range(monteCarloBound):\n",
    "        payoffProbs = np.random.uniform(0, 0.5, k)\n",
    "        bernouliPayoffs = [bernoulli(p) for p in payoffProbs]\n",
    "        alg = EWAlg(epsilon, k, h)\n",
    "        totalPayoffs = np.zeros(k)\n",
    "        myPayoff = 0\n",
    "        for i in range(n):\n",
    "            # generate bernouli payoffs\n",
    "            iPayoffs = np.array([b.rvs(1) for b in bernouliPayoffs]).flatten()\n",
    "            totalPayoffs = totalPayoffs + iPayoffs\n",
    "            j = alg.getAction()\n",
    "            myPayoff += iPayoffs[j]\n",
    "            alg.update(iPayoffs)\n",
    "\n",
    "        OPT = max(totalPayoffs)\n",
    "        regret = (OPT - myPayoff).item() / n\n",
    "        sumPayoff += myPayoff\n",
    "        sumRegret += regret\n",
    "    avgPayoffs.append(sumPayoff/n)\n",
    "    avgRegrets.append(sumRegret/n)\n",
    "\n",
    "print(epsilons)\n",
    "print(avgPayoffs)\n",
    "print(avgRegrets)"
   ]
  }
 ],
 "metadata": {
  "kernelspec": {
   "display_name": "Python 3",
   "language": "python",
   "name": "python3"
  },
  "language_info": {
   "codemirror_mode": {
    "name": "ipython",
    "version": 3
   },
   "file_extension": ".py",
   "mimetype": "text/x-python",
   "name": "python",
   "nbconvert_exporter": "python",
   "pygments_lexer": "ipython3",
   "version": "3.10.2 (v3.10.2:a58ebcc701, Jan 13 2022, 14:50:16) [Clang 13.0.0 (clang-1300.0.29.30)]"
  },
  "orig_nbformat": 4,
  "vscode": {
   "interpreter": {
    "hash": "aee8b7b246df8f9039afb4144a1f6fd8d2ca17a180786b69acc140d282b71a49"
   }
  }
 },
 "nbformat": 4,
 "nbformat_minor": 2
}
