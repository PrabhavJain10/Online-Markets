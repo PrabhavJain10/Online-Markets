{
 "cells": [
  {
   "cell_type": "code",
   "execution_count": 2,
   "metadata": {},
   "outputs": [],
   "source": [
    "import pandas as pd\n",
    "import numpy as np\n",
    "import matplotlib.pyplot as plt\n",
    "import random\n",
    "import math"
   ]
  },
  {
   "cell_type": "code",
   "execution_count": 3,
   "metadata": {},
   "outputs": [],
   "source": [
    "class EWAlg:\n",
    "    def __init__(self, epsilon, k, h, myBids, myValue):\n",
    "        self.weights = np.ones(k)\n",
    "        self.payoffs = np.zeros(k)\n",
    "        self.h = h\n",
    "        self.k = k\n",
    "        self.epsilon = epsilon\n",
    "        self.sumWeights = np.sum(self.weights)\n",
    "        self.probs = self.weights/self.sumWeights\n",
    "        self.myValue = myValue\n",
    "        self.myBids = myBids\n",
    "        self.myTotalValue = 0\n",
    "\n",
    "    def getBids(self):\n",
    "        return self.myBids\n",
    "\n",
    "    def getValue(self):\n",
    "        return self.myValue\n",
    "\n",
    "    def getTotalValue(self):\n",
    "        return self.myTotalValue\n",
    "\n",
    "    def getAction(self):\n",
    "        j = np.random.choice(self.k, 1, p = self.probs)\n",
    "        return self.myBids[j.item()]\n",
    "    \n",
    "    def update(self, payoffs):\n",
    "        for j in range(len(payoffs)):\n",
    "            curPayoff = payoffs[j]\n",
    "            self.payoffs[j] = self.payoffs[j] + curPayoff\n",
    "            newWeight = (1+self.epsilon)**(self.payoffs[j]/self.h)\n",
    "            self.weights[j] = newWeight\n",
    "        self.sumWeights = np.sum(self.weights)\n",
    "        self.weights = self.weights/self.sumWeights\n",
    "        self.sumWeights = np.sum(self.weights)\n",
    "        self.probs = self.weights/self.sumWeights\n",
    "        return\n",
    "\n",
    "    def generatePayoffs(self, bidToBeat, winningBid, meWin):\n",
    "        if meWin:\n",
    "            self.myTotalValue += self.myValue - winningBid\n",
    "        payoffs = np.zeros(self.k)\n",
    "        for count, bid in enumerate(self.myBids):\n",
    "            if bid >= bidToBeat:\n",
    "                payoffs[count] = self.myValue - bid\n",
    "            else:\n",
    "                payoffs[count] = 0\n",
    "        return payoffs\n",
    "    \n",
    "    def reset(self):\n",
    "        self.weights = np.ones(self.k)\n",
    "        self.payoffs = np.zeros(self.k)\n",
    "        self.sumWeights = np.sum(self.weights)\n",
    "        self.probs = self.weights/self.sumWeights\n",
    "        self.myTotalValue = 0\n"
   ]
  },
  {
   "attachments": {},
   "cell_type": "markdown",
   "metadata": {},
   "source": [
    "# Part 1 : Online Reserve Pricing"
   ]
  },
  {
   "cell_type": "code",
   "execution_count": 30,
   "metadata": {},
   "outputs": [],
   "source": [
    "class Auction:\n",
    "    def __init__(self, numItems, k = 100, h = 1, reserve = 0, learningRate = 0.1):\n",
    "        self.reserve = reserve\n",
    "        self.k = k\n",
    "        self.numItems = numItems\n",
    "        self.possibleReserves = np.linspace(0, h, k)\n",
    "        self.learner = EWAlg(learningRate, k, h, self.possibleReserves, h)\n",
    "\n",
    "    def runAuction(self, bids):\n",
    "        return self.runAuctionHelper(bids, self.numItems, self.reserve)\n",
    "    \n",
    "    def runAuctionHelper(self, bids, numItemsToSell, reservePrice):\n",
    "        # print(\"running auction helper. bids are\", bids)\n",
    "        bids.append(reservePrice)\n",
    "        bids.sort()\n",
    "        winningBids = []\n",
    "        if (bids[-(numItemsToSell+1)] > reservePrice):\n",
    "            salePrice = bids[-(numItemsToSell+1)]\n",
    "            for i in range(numItemsToSell):\n",
    "                winningBids.append(bids[-(i+1)])\n",
    "                # print(\"winningbid is\", winningBids)\n",
    "            saleRevenue = salePrice * numItemsToSell\n",
    "        else:\n",
    "            numItemsToSell -= 1\n",
    "            # print(\"looping back!\")\n",
    "            return self.runAuctionHelper(bids, numItemsToSell, reservePrice)\n",
    "        return winningBids, salePrice, saleRevenue\n",
    "\n",
    "    def generatePayoffs(self, winningBids, salePrice, itemsSold):\n",
    "        # calculate the payoff for a reserve valuee\n",
    "        # repeeat for all possible reserve values\n",
    "        # print(\"running generate payoffs\")\n",
    "        payoffs = np.zeros(self.k)\n",
    "        for count, reserve in enumerate(self.possibleReserves):\n",
    "            # print(\"running auction helper in generate payoffs\")\n",
    "            bids, sp, saleRevenue = self.runAuctionHelper(winningBids, itemsSold, reserve)\n",
    "            payoffs[count] = saleRevenue\n",
    "        return payoffs\n",
    "\n",
    "    \n",
    "    def updateReservePrice(self, winningBids, salePrice):\n",
    "        payoffs = self.generatePayoffs(winningBids, salePrice, len(winningBids))\n",
    "        self.learner.update(payoffs)\n",
    "        return\n"
   ]
  },
  {
   "cell_type": "code",
   "execution_count": 34,
   "metadata": {},
   "outputs": [
    {
     "name": "stdout",
     "output_type": "stream",
     "text": [
      "winningbids is [0.0, 0.0, 0.010101010101010102, 0.010101010101010102, 0.020202020202020204, 0.020202020202020204, 0.030303030303030304, 0.030303030303030304, 0.04040404040404041, 0.04040404040404041, 0.05050505050505051, 0.05050505050505051, 0.06060606060606061, 0.06060606060606061, 0.07070707070707072, 0.07070707070707072, 0.08080808080808081, 0.08080808080808081, 0.09090909090909091, 0.09090909090909091, 0.10101010101010102, 0.10101010101010102, 0.11111111111111112, 0.11111111111111112, 0.12121212121212122, 0.12121212121212122, 0.13131313131313133, 0.13131313131313133, 0.14141414141414144, 0.14141414141414144, 0.15151515151515152, 0.15151515151515152, 0.16161616161616163, 0.16161616161616163, 0.17171717171717174, 0.17171717171717174, 0.18181818181818182, 0.18181818181818182, 0.19191919191919193, 0.19191919191919193, 0.20202020202020204, 0.20202020202020204, 0.21212121212121213, 0.21212121212121213, 0.22222222222222224, 0.22222222222222224, 0.23232323232323235, 0.23232323232323235, 0.24242424242424243, 0.24242424242424243, 0.25252525252525254, 0.25252525252525254, 0.26262626262626265, 0.26262626262626265, 0.27272727272727276, 0.27272727272727276, 0.2828282828282829, 0.2828282828282829, 0.29292929292929293, 0.29292929292929293, 0.30303030303030304, 0.30303030303030304, 0.31313131313131315, 0.31313131313131315, 0.32323232323232326, 0.32323232323232326, 0.33333333333333337, 0.33333333333333337, 0.3434343434343435, 0.3434343434343435, 0.3535353535353536, 0.3535353535353536, 0.36363636363636365, 0.36363636363636365, 0.37373737373737376, 0.37373737373737376, 0.38383838383838387, 0.38383838383838387, 0.393939393939394, 0.393939393939394, 0.4040404040404041, 0.4040404040404041, 0.4141414141414142, 0.4141414141414142, 0.42424242424242425, 0.42424242424242425, 0.43434343434343436, 0.43434343434343436, 0.4444444444444445, 0.4444444444444445, 0.4545454545454546, 0.4545454545454546, 0.4646464646464647, 0.4646464646464647, 0.4747474747474748, 0.4747474747474748, 0.48484848484848486, 0.48484848484848486, 0.494949494949495, 0.494949494949495, 0.5050505050505051, 0.5050505050505051, 0.5151515151515152, 0.5151515151515152, 0.5252525252525253, 0.5252525252525253, 0.5353535353535354, 0.5353535353535354, 0.5454545454545455, 0.5454545454545455, 0.5555555555555556, 0.5555555555555556, 0.5656565656565657, 0.5656565656565657, 0.5757575757575758, 0.5757575757575758, 0.5858585858585859, 0.5858585858585859, 0.595959595959596, 0.595959595959596, 0.6060606060606061, 0.6060606060606061, 0.6161616161616162, 0.6161616161616162, 0.6262626262626263, 0.6262626262626263, 0.6363636363636365, 0.6363636363636365, 0.6464646464646465, 0.6464646464646465, 0.6565656565656566, 0.6565656565656566, 0.6666666666666667, 0.6666666666666667, 0.6767676767676768, 0.6767676767676768, 0.686868686868687, 0.686868686868687, 0.696969696969697, 0.696969696969697, 0.7070707070707072, 0.7070707070707072, 0.7171717171717172, 0.7171717171717172, 0.7272727272727273, 0.7272727272727273, 0.7373737373737375, 0.7373737373737375, 0.7474747474747475, 0.7474747474747475, 0.7575757575757577, 0.7575757575757577, 0.7676767676767677, 0.7676767676767677, 0.7777777777777778, 0.7777777777777778, 0.787878787878788, 0.787878787878788, 0.797979797979798, 0.797979797979798, 0.8080808080808082, 0.8080808080808082, 0.8181818181818182, 0.8181818181818182, 0.8282828282828284, 0.8282828282828284, 0.8383838383838385, 0.8383838383838385, 0.8484848484848485, 0.8484848484848485, 0.8585858585858587, 0.8585858585858587, 0.8686868686868687, 0.8686868686868687, 0.8787878787878789, 0.8787878787878789, 0.888888888888889, 0.888888888888889, 0.8989898989898991, 0.8989898989898991, 0.9090909090909092, 0.9090909090909092, 0.9191919191919192, 0.9191919191919192, 0.9292929292929294, 0.9292929292929294, 0.9393939393939394, 0.9393939393939394, 0.9494949494949496, 0.9494949494949496, 0.9595959595959597, 0.9595959595959597, 0.9696969696969697, 0.9696969696969697, 0.9797979797979799, 0.9797979797979799, 0.98989898989899, 0.98989898989899, 1.0, 1.0, 10]\n",
      "0.9\n",
      "0.9\n"
     ]
    }
   ],
   "source": [
    "auction = Auction(1, k = 100, h = 1, reserve = 0, learningRate = 0.1)\n",
    "bids = [0, 0.1, 0.2, 0.3, 0.4, 0.5, 0.6, 0.7, 0.8, 0.9, 10]\n",
    "winningBids, salePrice, saleRevenue = auction.runAuction(bids)\n",
    "auction.updateReservePrice(winningBids, salePrice)\n",
    "print(\"winningbids is\", winningBids)\n",
    "print(salePrice)\n",
    "print(saleRevenue)"
   ]
  },
  {
   "cell_type": "code",
   "execution_count": null,
   "metadata": {},
   "outputs": [],
   "source": []
  }
 ],
 "metadata": {
  "kernelspec": {
   "display_name": "Python 3",
   "language": "python",
   "name": "python3"
  },
  "language_info": {
   "codemirror_mode": {
    "name": "ipython",
    "version": 3
   },
   "file_extension": ".py",
   "mimetype": "text/x-python",
   "name": "python",
   "nbconvert_exporter": "python",
   "pygments_lexer": "ipython3",
   "version": "3.9.12"
  },
  "orig_nbformat": 4,
  "vscode": {
   "interpreter": {
    "hash": "aee8b7b246df8f9039afb4144a1f6fd8d2ca17a180786b69acc140d282b71a49"
   }
  }
 },
 "nbformat": 4,
 "nbformat_minor": 2
}
