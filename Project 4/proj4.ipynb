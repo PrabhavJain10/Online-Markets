{
 "cells": [
  {
   "cell_type": "code",
   "execution_count": 199,
   "metadata": {},
   "outputs": [],
   "source": [
    "import pandas as pd\n",
    "import numpy as np\n",
    "import matplotlib.pyplot as plt\n",
    "import random\n",
    "import math"
   ]
  },
  {
   "cell_type": "code",
   "execution_count": 428,
   "metadata": {},
   "outputs": [],
   "source": [
    "class EWAlg:\n",
    "    def __init__(self, epsilon, k, h, myBids, myValue):\n",
    "        self.weights = np.ones(k)\n",
    "        self.payoffs = np.zeros(k)\n",
    "        self.h = h\n",
    "        self.k = k\n",
    "        self.epsilon = epsilon\n",
    "        self.sumWeights = np.sum(self.weights)\n",
    "        self.probs = self.weights/self.sumWeights\n",
    "        self.myValue = myValue\n",
    "        self.myBids = myBids\n",
    "        self.myTotalValue = 0\n",
    "\n",
    "    def getBids(self):\n",
    "        return self.myBids\n",
    "\n",
    "    def getValue(self):\n",
    "        return self.myValue\n",
    "\n",
    "    def getTotalValue(self):\n",
    "        return self.myTotalValue\n",
    "\n",
    "    def getAction(self):\n",
    "        j = np.random.choice(self.k, 1, p = self.probs)\n",
    "        return self.myBids[j.item()]\n",
    "    \n",
    "    def update(self, payoffs):\n",
    "        for j in range(len(payoffs)):\n",
    "            curPayoff = payoffs[j]\n",
    "            self.payoffs[j] = self.payoffs[j] + curPayoff\n",
    "            newWeight = (1+self.epsilon)**(self.payoffs[j]/self.h)\n",
    "            self.weights[j] = newWeight\n",
    "        self.sumWeights = np.sum(self.weights)\n",
    "        self.weights = self.weights/self.sumWeights\n",
    "        self.sumWeights = np.sum(self.weights)\n",
    "        self.probs = self.weights/self.sumWeights\n",
    "        return\n",
    "    \n",
    "    def invertProbabilitesAndGetAction(self):\n",
    "        invProbs = 1/self.probs\n",
    "        invProbs = invProbs/np.sum(invProbs)\n",
    "        j = np.random.choice(self.k, 1, p = invProbs)\n",
    "        return self.myBids[j.item()]\n",
    "\n",
    "    def generatePayoffs(self, bidToBeat, winningBid, meWin):\n",
    "        if meWin:\n",
    "            self.myTotalValue += self.myValue - winningBid\n",
    "        payoffs = np.zeros(self.k)\n",
    "        for count, bid in enumerate(self.myBids):\n",
    "            if bid >= bidToBeat:\n",
    "                payoffs[count] = self.myValue - bid\n",
    "            else:\n",
    "                payoffs[count] = 0\n",
    "        return payoffs\n",
    "    \n",
    "    def reset(self):\n",
    "        self.weights = np.ones(self.k)\n",
    "        self.payoffs = np.zeros(self.k)\n",
    "        self.sumWeights = np.sum(self.weights)\n",
    "        self.probs = self.weights/self.sumWeights\n",
    "        self.myTotalValue = 0\n"
   ]
  },
  {
   "attachments": {},
   "cell_type": "markdown",
   "metadata": {},
   "source": [
    "# Part 1 : Online Reserve Pricing"
   ]
  },
  {
   "cell_type": "code",
   "execution_count": 201,
   "metadata": {},
   "outputs": [],
   "source": [
    "class Auction:\n",
    "    def __init__(self, numItems, k = 100, h = 1, learningRate = 0.1):\n",
    "        self.k = k\n",
    "        self.numItems = numItems\n",
    "        self.possibleReserves = np.linspace(0, h, k)\n",
    "        self.learner = EWAlg(learningRate, k, h, self.possibleReserves, h)\n",
    "        self.reserve = self.learner.getAction()\n",
    "\n",
    "    def getReservePrices(self):\n",
    "        return self.possibleReserves\n",
    "    \n",
    "    def setReservePrice(self, reserve):\n",
    "        self.reserve = reserve\n",
    "        return\n",
    "\n",
    "    def getCurReservePrice(self):\n",
    "        return self.reserve\n",
    "\n",
    "    def getLearner(self):\n",
    "        return self.learner\n",
    "\n",
    "    def runAuction(self, bids):\n",
    "        return self.runAuctionHelper(bids, self.numItems, self.reserve), self.reserve\n",
    "    \n",
    "    def runAuctionHelper(self, bids, numItemsToSell, reservePrice):\n",
    "        bids.append(reservePrice)\n",
    "        bids.sort()\n",
    "        winningBids = []\n",
    "        # check if highest bid is greater than reserve price\n",
    "        if (bids[-(numItemsToSell)] > reservePrice):\n",
    "            salePrice = bids[-(numItemsToSell+1)]\n",
    "            for i in range(numItemsToSell):\n",
    "                winningBids.append(bids[-(i+1)])\n",
    "            saleRevenue = salePrice * numItemsToSell\n",
    "            bids.remove(reservePrice)\n",
    "            return saleRevenue\n",
    "        else:\n",
    "            bids.remove(reservePrice)\n",
    "            numItemsToSell -= 1\n",
    "            if numItemsToSell == 0:\n",
    "                # cannot sell any, revenue is 0\n",
    "                return 0\n",
    "            return self.runAuctionHelper(bids, numItemsToSell, reservePrice)\n",
    "        \n",
    "\n",
    "    def generatePayoffs(self, bids):\n",
    "        # calculate the payoff for a reserve valuee\n",
    "        # repeat for all possible reserve values\n",
    "        payoffs = np.zeros(self.k)\n",
    "        for count, reserve in enumerate(self.possibleReserves):\n",
    "            saleRevenue = self.runAuctionHelper(bids, self.numItems, reserve)\n",
    "            payoffs[count] = saleRevenue\n",
    "        return payoffs\n",
    "\n",
    "    \n",
    "    def updateReservePrice(self, bids):\n",
    "        payoffs = self.generatePayoffs(bids)\n",
    "        self.learner.update(payoffs)\n",
    "        self.reserve = self.learner.getAction()\n",
    "        return\n"
   ]
  },
  {
   "cell_type": "code",
   "execution_count": 202,
   "metadata": {},
   "outputs": [],
   "source": [
    "class Bidders:\n",
    "    def __init__(self, min, h):\n",
    "        self.h = h\n",
    "        self.min = min\n",
    "    \n",
    "    def getUniformValue(self):\n",
    "        return random.uniform(self.min, self.h)\n",
    "        "
   ]
  },
  {
   "cell_type": "code",
   "execution_count": 203,
   "metadata": {},
   "outputs": [],
   "source": [
    "def runMultipleAuctions(auctionRounds = 1000, learningRate = 0.1):\n",
    "    # create an auction and bidders\n",
    "    numItems = 3\n",
    "    numBidders = 4\n",
    "    auction = Auction(numItems, k = 100, h = 1, learningRate = learningRate)\n",
    "    bidders = []\n",
    "    for i in range(numBidders):\n",
    "        bidders.append(Bidders(0, 1))\n",
    "    # things to keep track of\n",
    "    allBids = []\n",
    "    totalRevenue = 0\n",
    "    avgRevenue = np.zeros(auctionRounds)\n",
    "    reservePrices = np.zeros(auctionRounds)\n",
    "    # run the auction\n",
    "    for i in range(auctionRounds):\n",
    "        bids = []\n",
    "        for bidder in bidders:\n",
    "            bids.append(bidder.getUniformValue())\n",
    "        allBids.append(bids)    \n",
    "        curRevenue, reservePrices[i] = auction.runAuction(bids)\n",
    "        totalRevenue += curRevenue\n",
    "        avgRevenue[i] = totalRevenue/(i+1)\n",
    "        auction.updateReservePrice(bids)\n",
    "    return avgRevenue, reservePrices"
   ]
  },
  {
   "cell_type": "code",
   "execution_count": 204,
   "metadata": {},
   "outputs": [],
   "source": [
    "\n",
    "def monteCarlo(MCRuns = 500, auctionRounds = 1000, learningRate = 0.1):\n",
    "    finalReserves = []\n",
    "    finalAvgRevenue = []\n",
    "    reservesOverTime = []\n",
    "    for i in range(MCRuns):\n",
    "        avgRevenue, reservePrices = runMultipleAuctions(auctionRounds, learningRate)\n",
    "        finalReserves.append(reservePrices[-1])\n",
    "        finalAvgRevenue.append(avgRevenue[-1])\n",
    "        reservesOverTime.append(reservePrices)\n",
    "    return finalReserves, finalAvgRevenue, reservesOverTime"
   ]
  },
  {
   "cell_type": "code",
   "execution_count": 205,
   "metadata": {},
   "outputs": [],
   "source": [
    "finalReserves = []\n",
    "finalAvgRevenues = []\n",
    "reservesOverTimes = []\n",
    "epsilons = [2] #[0.0679, 0.1, 0.5, 2]\n",
    "for epsilon in epsilons:\n",
    "    finalReserve, finalAvgRevenue, reservesOverTime = monteCarlo(MCRuns = 500, auctionRounds = 1000, learningRate = epsilon)\n",
    "    finalReserves.append(finalReserve)\n",
    "    finalAvgRevenues.append(finalAvgRevenue)\n",
    "    reservesOverTime = np.array(reservesOverTime)\n",
    "    reservesOverTime = np.mean(reservesOverTime, axis = 0)\n",
    "    reservesOverTimes.append(reservesOverTime)"
   ]
  },
  {
   "cell_type": "code",
   "execution_count": 206,
   "metadata": {},
   "outputs": [
    {
     "name": "stdout",
     "output_type": "stream",
     "text": [
      "0.4886262626262627\n",
      "0.7813984646720943\n"
     ]
    }
   ],
   "source": [
    "print(np.mean(finalReserves))\n",
    "print(np.mean(finalAvgRevenue))"
   ]
  },
  {
   "attachments": {},
   "cell_type": "markdown",
   "metadata": {},
   "source": [
    "Our Alg results\\\n",
    "\n",
    "4,3 \n",
    "0.4886262626262627\n",
    "0.7813984646720943\n",
    "\n",
    "4,2\n",
    "0.47121212121212125\n",
    "0.7690907908485055\n",
    "\n",
    "10, 1\n",
    "0.4893131313131313\n",
    "0.7730349763357829\n",
    "\n",
    "10, 3\n",
    "0.4318181818181819\n",
    "1.794183521260122\n",
    "\n",
    "10, 5\n",
    "0.4247676767676768\n",
    "2.174732894689363"
   ]
  },
  {
   "cell_type": "code",
   "execution_count": 181,
   "metadata": {},
   "outputs": [
    {
     "ename": "IndexError",
     "evalue": "list index out of range",
     "output_type": "error",
     "traceback": [
      "\u001b[0;31m---------------------------------------------------------------------------\u001b[0m",
      "\u001b[0;31mIndexError\u001b[0m                                Traceback (most recent call last)",
      "Cell \u001b[0;32mIn[181], line 6\u001b[0m\n\u001b[1;32m      3\u001b[0m f\u001b[39m.\u001b[39mset_figheight(\u001b[39m8\u001b[39m)\n\u001b[1;32m      5\u001b[0m \u001b[39m#for count, epsilon in enumerate(epsilons):\u001b[39;00m\n\u001b[0;32m----> 6\u001b[0m plt\u001b[39m.\u001b[39mplot(np\u001b[39m.\u001b[39marange(\u001b[39m1000\u001b[39m), reservesOverTimes[count], label \u001b[39m=\u001b[39m epsilon)\n\u001b[1;32m      8\u001b[0m plt\u001b[39m.\u001b[39mtitle(\u001b[39m'\u001b[39m\u001b[39mReserves over Time\u001b[39m\u001b[39m'\u001b[39m)\n\u001b[1;32m      9\u001b[0m plt\u001b[39m.\u001b[39mxlabel(\u001b[39m'\u001b[39m\u001b[39mRounds\u001b[39m\u001b[39m'\u001b[39m)\n",
      "\u001b[0;31mIndexError\u001b[0m: list index out of range"
     ]
    },
    {
     "data": {
      "text/plain": [
       "<Figure size 800x800 with 0 Axes>"
      ]
     },
     "metadata": {},
     "output_type": "display_data"
    }
   ],
   "source": [
    "f = plt.figure()\n",
    "f.set_figwidth(8)\n",
    "f.set_figheight(8)\n",
    "\n",
    "#for count, epsilon in enumerate(epsilons):\n",
    "plt.plot(np.arange(1000), reservesOverTimes[count], label = epsilon)\n",
    "\n",
    "plt.title('Reserves over Time')\n",
    "plt.xlabel('Rounds')\n",
    "plt.ylabel('Reserve Price')\n",
    "plt.legend()\n",
    "plt.show()"
   ]
  },
  {
   "attachments": {},
   "cell_type": "markdown",
   "metadata": {},
   "source": [
    "### Calculating Optimals"
   ]
  },
  {
   "cell_type": "code",
   "execution_count": 264,
   "metadata": {},
   "outputs": [],
   "source": [
    "def findOptRev(numbidders, numItems):\n",
    "    finalAvgRevenue = np.zeros(500)\n",
    "    finalAvgReserve = np.zeros(500)\n",
    "    for j in range(500):\n",
    "        # create an auction and bidders\n",
    "        auction = Auction(numItems, k = 100, h = 1, learningRate = 0.5)\n",
    "        bidders = []\n",
    "        for i in range(numbidders):\n",
    "            bidders.append(Bidders(0, 1))\n",
    "        totalRevenue = np.zeros(100)\n",
    "        for i in range(1000):\n",
    "            bids = []\n",
    "            for bidder in bidders:\n",
    "                bids.append(bidder.getUniformValue())\n",
    "            possibleReserves = auction.getReservePrices()\n",
    "            for count, reserve in enumerate(possibleReserves):\n",
    "                auction.setReservePrice(reserve)\n",
    "                payoffs, reserve = auction.runAuction(bids)\n",
    "                totalRevenue[count] += np.max(payoffs)\n",
    "        \n",
    "        optReserve = possibleReserves[np.argmax(totalRevenue)]\n",
    "        finalAvgReserve[j] = optReserve\n",
    "        optRevenue = np.max(totalRevenue) / 1000\n",
    "        finalAvgRevenue[j] = optRevenue\n",
    "    return finalAvgReserve, finalAvgRevenue"
   ]
  },
  {
   "cell_type": "code",
   "execution_count": 154,
   "metadata": {},
   "outputs": [
    {
     "name": "stdout",
     "output_type": "stream",
     "text": [
      "0.5012121212121212\n",
      "0.9029169485672772\n"
     ]
    }
   ],
   "source": [
    "optReserve, optRevenue = findOptRev(4, 2)\n",
    "finalOptReserve = np.mean(optReserve)\n",
    "finalOptRevenue = np.mean(optRevenue)\n",
    "print(finalOptReserve)\n",
    "print(finalOptRevenue)"
   ]
  },
  {
   "attachments": {},
   "cell_type": "markdown",
   "metadata": {},
   "source": [
    "Brute Forces Optimals\n",
    "\n",
    "Distribution U[0,2]\n",
    "2,1\n",
    "0.9658383838383838\n",
    "0.8366969351789084\n",
    "\n",
    "4,2\n",
    "0.971959595959596\n",
    "1.8045542054403818\n",
    "\n",
    "Uniform Distribution U[0,1]\n",
    "\n",
    "2,1 \n",
    "0.5 \n",
    "5/12\n",
    "\n",
    "4, 1\n",
    "0.5034949494949496\n",
    "0.6144866116272271\n",
    "\n",
    "4, 2\n",
    "0.5012121212121212\n",
    "0.9029169485672772\n",
    "\n",
    "10, 1\n",
    "0.5387676767676768\n",
    "0.8190149684755034\n",
    "\n",
    "10, 3\n",
    "0.4981818181818182\n",
    "1.919048462599637\n",
    "\n",
    "10, 5\n",
    "0.49927272727272726\n",
    "2.3868820821651635"
   ]
  },
  {
   "attachments": {},
   "cell_type": "markdown",
   "metadata": {},
   "source": [
    "## Part 2"
   ]
  },
  {
   "cell_type": "code",
   "execution_count": 440,
   "metadata": {},
   "outputs": [],
   "source": [
    "class BrokerUniform:\n",
    "    def __init__(self, k = 100, h = 1, learningRate = 0.1):\n",
    "        self.k = k\n",
    "        self.possibleOffsets = np.linspace(0, h, k)\n",
    "        self.learner = EWAlg(learningRate, k, h, self.possibleOffsets, h)\n",
    "        self.offset = self.learner.getAction()\n",
    "\n",
    "    def getOffsetPrices(self):\n",
    "        return self.possibleOffsets\n",
    "    \n",
    "    def setOffsetPrice(self, offset):\n",
    "        self.offset = offset\n",
    "        return\n",
    "    \n",
    "    def getOffsetPrice(self):\n",
    "        return self.offset\n",
    "\n",
    "    def getLearner(self):\n",
    "        return self.learner\n",
    "\n",
    "    def runBroker(self, bids):\n",
    "        # get the bids from the bidders\n",
    "        if bids[0] + bids[1] > self.offset:\n",
    "            meeter1_critical_bid = bids[0] - (self.offset - bids[1])\n",
    "            meeter2_critical_bid = bids[1] - (self.offset - bids[0])\n",
    "            totalCriticalBid = (meeter1_critical_bid + meeter2_critical_bid)\n",
    "            # meeter1_critical_bid = (bids[0] / (bids[0] + bids[1])) * self.offset\n",
    "            # meeter2_critical_bid = (bids[1] / (bids[0] + bids[1])) * self.offset\n",
    "            maxP = 2*(bids[0] + bids[1])\n",
    "            payoff = maxP - totalCriticalBid\n",
    "            return payoff, self.offset\n",
    "        else:\n",
    "            return 0, self.offset\n",
    "\n",
    "    def generatePayoffs(self, bids):\n",
    "        payoffs = np.zeros(self.k)\n",
    "        for count, offset in enumerate(self.possibleOffsets):\n",
    "            if bids[0] + bids[1] > offset:\n",
    "                meeter1_critical_bid = bids[0] - (offset - bids[1])\n",
    "                meeter2_critical_bid = bids[1] - (offset - bids[0])\n",
    "                totalCriticalBid = (meeter1_critical_bid + meeter2_critical_bid)\n",
    "                # meeter1_critical_bid = (bids[0] / (bids[0] + bids[1])) * offset\n",
    "                # meeter2_critical_bid = (bids[1] / (bids[0] + bids[1])) * offset\n",
    "                maxP = 2*(bids[0] + bids[1])\n",
    "                payoff = maxP - totalCriticalBid\n",
    "                payoffs[count] = payoff\n",
    "            else:\n",
    "                payoffs[count] = 0\n",
    "        return payoffs\n",
    "    \n",
    "    def updateReservePrice(self, bids):\n",
    "        payoffs = self.generatePayoffs(bids)\n",
    "        self.learner.update(payoffs)\n",
    "        self.offset = self.learner.getAction()\n",
    "        return\n"
   ]
  },
  {
   "cell_type": "code",
   "execution_count": 441,
   "metadata": {},
   "outputs": [],
   "source": [
    "class OPTBroker:\n",
    "\n",
    "    def __init__(self, n, m, x, y):\n",
    "        self.offset = ((n+m) + (x+y))/2\n",
    "\n",
    "    def getOffsetPrice(self):\n",
    "        return self.offset\n",
    "\n",
    "    def runBroker(self, bids):\n",
    "        # get the bids from the bidders\n",
    "        if bids[0] + bids[1] > self.offset:\n",
    "            meeter1_critical_bid = bids[0] - (self.offset - bids[1])\n",
    "            meeter2_critical_bid = bids[1] - (self.offset - bids[0])\n",
    "            totalCriticalBid = (meeter1_critical_bid + meeter2_critical_bid)\n",
    "            # meeter1_critical_bid = (bids[0] / (bids[0] + bids[1])) * self.offset\n",
    "            # meeter2_critical_bid = (bids[1] / (bids[0] + bids[1])) * self.offset\n",
    "            maxP = 2*(bids[0] + bids[1])\n",
    "            payoff = maxP - totalCriticalBid\n",
    "            return payoff\n",
    "        else:\n",
    "            return 0 "
   ]
  },
  {
   "cell_type": "code",
   "execution_count": 442,
   "metadata": {},
   "outputs": [],
   "source": [
    "def runBrokers(auctionRounds = 1000, learningRate = 0.1):\n",
    "\n",
    "    # create brokers, and parties\n",
    "    m = 0\n",
    "    n = 1\n",
    "    x = 1\n",
    "    y = 2\n",
    "    buyer = Bidders(m, n)\n",
    "    seller = Bidders(x, y)\n",
    "    ourBroker = BrokerUniform(k = 100, h = 10, learningRate = learningRate)\n",
    "    optBroker = OPTBroker(n, m, x, y)\n",
    "    optOffset = optBroker.getOffsetPrice()\n",
    "    # \n",
    "    # things to keep track of\n",
    "    allBids = []\n",
    "    totalRevenue = 0\n",
    "    optRevenue = 0\n",
    "    avgRevenue = np.zeros(auctionRounds)\n",
    "    offsetPrices = np.zeros(auctionRounds)\n",
    "    # run the auction\n",
    "    for i in range(auctionRounds):\n",
    "        b1 = buyer.getUniformValue()\n",
    "        s1 = seller.getUniformValue()\n",
    "        bids = [b1, s1]\n",
    "        allBids.append(bids)    \n",
    "        curRevenue, offsetPrices[i] = ourBroker.runBroker(bids)\n",
    "        optRevenue += optBroker.runBroker(bids)\n",
    "        totalRevenue += curRevenue\n",
    "        avgRevenue[i] = totalRevenue/(i+1)\n",
    "        ourBroker.updateReservePrice(bids)\n",
    "    return avgRevenue, offsetPrices, optRevenue/auctionRounds, optOffset"
   ]
  },
  {
   "cell_type": "code",
   "execution_count": 424,
   "metadata": {},
   "outputs": [],
   "source": [
    "\n",
    "def brokerMonteCarlo(MCRuns = 500, auctionRounds = 1000, learningRate = 0.1):\n",
    "    finalOffsets = []\n",
    "    finalAvgRevenues = []\n",
    "    offsetsOverTime = []\n",
    "    finalOptAvgRevs = []\n",
    "    for i in range(MCRuns):\n",
    "        avgRevenue, offsetPrices, finalOptAvgRev, optOffset = runBrokers(auctionRounds, learningRate)\n",
    "        finalOffsets.append(offsetPrices[-1])\n",
    "        finalAvgRevenues.append(avgRevenue[-1])\n",
    "        offsetsOverTime.append(offsetPrices)\n",
    "        finalOptAvgRevs.append(finalOptAvgRev)\n",
    "    finalOffset = np.mean(finalOffsets)\n",
    "    finalAvgRevenue = np.mean(finalAvgRevenues)\n",
    "    finalOptAvgRev = np.mean(finalOptAvgRevs)\n",
    "    return finalOffset, finalAvgRevenue, offsetsOverTime, finalOptAvgRev, optOffset"
   ]
  },
  {
   "cell_type": "code",
   "execution_count": 443,
   "metadata": {},
   "outputs": [
    {
     "name": "stdout",
     "output_type": "stream",
     "text": [
      "1.5252525252525253\n",
      "2.2822666666666738\n",
      "2.0\n",
      "2.01192\n"
     ]
    }
   ],
   "source": [
    "\n",
    "epsilon = 0.1 #[0.0679, 0.1, 0.5, 2]\n",
    "finalOffset, finalAvgRevenue, offsetsOverTime, finalOptAvgRev, optOffset = brokerMonteCarlo(MCRuns = 50, auctionRounds = 1000, learningRate = epsilon)\n",
    "offsetsOverTime = np.array(offsetsOverTime)\n",
    "offsetsOverTime = np.mean(offsetsOverTime, axis = 0)\n",
    "print(finalOffset)\n",
    "print(finalAvgRevenue)\n",
    "print(optOffset)\n",
    "print(finalOptAvgRev)\n"
   ]
  },
  {
   "cell_type": "code",
   "execution_count": 444,
   "metadata": {},
   "outputs": [
    {
     "name": "stderr",
     "output_type": "stream",
     "text": [
      "No artists with labels found to put in legend.  Note that artists whose label start with an underscore are ignored when legend() is called with no argument.\n"
     ]
    },
    {
     "data": {
      "image/png": "[encoded data removed]",
      "text/plain": [
       "<Figure size 800x800 with 1 Axes>"
      ]
     },
     "metadata": {},
     "output_type": "display_data"
    }
   ],
   "source": [
    "f = plt.figure()\n",
    "f.set_figwidth(8)\n",
    "f.set_figheight(8)\n",
    "\n",
    "plt.plot(np.arange(offsetsOverTime.size), offsetsOverTime)\n",
    "\n",
    "plt.title('Offsets over Time')\n",
    "plt.xlabel('Rounds')\n",
    "plt.ylabel('Offset Price')\n",
    "plt.legend()\n",
    "plt.show()"
   ]
  },
  {
   "cell_type": "code",
   "execution_count": 401,
   "metadata": {},
   "outputs": [
    {
     "name": "stdout",
     "output_type": "stream",
     "text": [
      "1.5\n"
     ]
    }
   ],
   "source": [
    "meeter2_critical_bid = (1 / (0.5 + 1)) * 1.5\n",
    "meeter1_critical_bid = (0.5 / (0.5 + 1)) * 1.5\n",
    "print(meeter1_critical_bid + meeter2_critical_bid)"
   ]
  }
 ],
 "metadata": {
  "kernelspec": {
   "display_name": "Python 3",
   "language": "python",
   "name": "python3"
  },
  "language_info": {
   "codemirror_mode": {
    "name": "ipython",
    "version": 3
   },
   "file_extension": ".py",
   "mimetype": "text/x-python",
   "name": "python",
   "nbconvert_exporter": "python",
   "pygments_lexer": "ipython3",
   "version": "3.10.2"
  },
  "orig_nbformat": 4,
  "vscode": {
   "interpreter": {
    "hash": "aee8b7b246df8f9039afb4144a1f6fd8d2ca17a180786b69acc140d282b71a49"
   }
  }
 },
 "nbformat": 4,
 "nbformat_minor": 2
}
