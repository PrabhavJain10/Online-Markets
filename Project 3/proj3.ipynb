{
 "cells": [
  {
   "cell_type": "code",
   "execution_count": 247,
   "metadata": {},
   "outputs": [],
   "source": [
    "import pandas as pd\n",
    "import numpy as np\n",
    "import matplotlib.pyplot as plt\n",
    "import random\n",
    "import math"
   ]
  },
  {
   "attachments": {},
   "cell_type": "markdown",
   "metadata": {},
   "source": [
    "# Part 1: Outcomes from No-regret Learning in Games"
   ]
  },
  {
   "cell_type": "markdown",
   "metadata": {},
   "source": [
    "## Set Up and Algorithm Definition"
   ]
  },
  {
   "cell_type": "code",
   "execution_count": 248,
   "metadata": {},
   "outputs": [],
   "source": [
    "class EWAlg:\n",
    "    def __init__(self, epsilon, k, h, myBids, myValue):\n",
    "        self.weights = np.ones(k)\n",
    "        self.payoffs = np.zeros(k)\n",
    "        self.h = h\n",
    "        self.k = k\n",
    "        self.epsilon = epsilon\n",
    "        self.sumWeights = np.sum(self.weights)\n",
    "        self.probs = self.weights/self.sumWeights\n",
    "        self.myValue = myValue\n",
    "        self.myBids = myBids\n",
    "        self.myTotalValue = 0\n",
    "\n",
    "    def getBids(self):\n",
    "        return self.myBids\n",
    "\n",
    "    def getValue(self):\n",
    "        return self.myValue\n",
    "\n",
    "    def getTotalValue(self):\n",
    "        return self.myTotalValue\n",
    "\n",
    "    def getAction(self):\n",
    "        j = np.random.choice(self.k, 1, p = self.probs)\n",
    "        return self.myBids[j.item()]\n",
    "    \n",
    "    def update(self, payoffs):\n",
    "        for j in range(len(payoffs)):\n",
    "            curPayoff = payoffs[j]\n",
    "            self.payoffs[j] = self.payoffs[j] + curPayoff\n",
    "            newWeight = (1+self.epsilon)**(self.payoffs[j]/self.h)\n",
    "            self.weights[j] = newWeight\n",
    "        self.sumWeights = np.sum(self.weights)\n",
    "        if(self.epsilon > 1):\n",
    "            self.weights = self.weights/self.sumWeights\n",
    "            self.sumWeights = np.sum(self.weights)\n",
    "        self.probs = self.weights/self.sumWeights\n",
    "        return\n",
    "\n",
    "    def generatePayoffs(self, bidToBeat, winningBid, meWin):\n",
    "        if meWin:\n",
    "            self.myTotalValue += self.myValue - winningBid\n",
    "        payoffs = np.zeros(self.k)\n",
    "        for count, bid in enumerate(self.myBids):\n",
    "            if bid >= bidToBeat:\n",
    "                payoffs[count] = self.myValue - bid\n",
    "            else:\n",
    "                payoffs[count] = 0\n",
    "        return payoffs\n",
    "    \n",
    "    def reset(self):\n",
    "        self.weights = np.ones(self.k)\n",
    "        self.payoffs = np.zeros(self.k)\n",
    "        self.sumWeights = np.sum(self.weights)\n",
    "        self.probs = self.weights/self.sumWeights\n",
    "        self.myTotalValue = 0\n"
   ]
  },
  {
   "cell_type": "code",
   "execution_count": 249,
   "metadata": {},
   "outputs": [],
   "source": [
    "class FirstPriceReserve:\n",
    "    # bidders have to be ordered the same way every time\n",
    "    # reserve given as a raw value\n",
    "    def __init__(self, numBidders, reserve = 0):\n",
    "        self.numBidders = numBidders\n",
    "        self.totalPayoffs = np.zeros(self.numBidders)\n",
    "        self.reserve = reserve\n",
    "        \n",
    "    def generate(self, bids):\n",
    "        winningBid = 0\n",
    "        winner = -1\n",
    "        tiedBidders = []\n",
    "        tied = False\n",
    "        generatedBids = bids\n",
    "        generatedBids.append(self.reserve)\n",
    "        # check bids of all bidders\n",
    "        for count, bid in enumerate(bids):\n",
    "            if bid > winningBid:\n",
    "                winningBid = bid\n",
    "                winner = count\n",
    "            elif (bid == winningBid) and (winner != -1):\n",
    "                tiedBidders.append(count)\n",
    "                tied = True\n",
    "        if tied : winner = random.choice(tiedBidders)\n",
    "        # see if winning bid is greater than reserve price\n",
    "        if (winningBid < self.reserve): \n",
    "            winningBid = self.reserve\n",
    "            winner = -1\n",
    "        return generatedBids, winningBid, winner"
   ]
  },
  {
   "cell_type": "code",
   "execution_count": 250,
   "metadata": {},
   "outputs": [],
   "source": [
    "numPlayers = 2\n",
    "n = 500\n",
    "epsilons = [0.0774,0.0774]\n",
    "h = 10\n",
    "min = 1\n",
    "k = 50\n",
    "stepSize = np.log(h) / k\n",
    "\n",
    "def setUpPlayers() :\n",
    "    # set up our players\n",
    "    players = []\n",
    "    for count in range(numPlayers):\n",
    "    # pick a distribution and numPlayers values from it\n",
    "        playerValue = random.uniform(min,h)\n",
    "        # create possible bids using geometric discretization\n",
    "        playerBids = []\n",
    "        for j in range(k):\n",
    "            playerBids.append(playerValue - ((1 + stepSize)**(-j))*playerValue)\n",
    "        # create player\n",
    "        player = EWAlg(epsilons[count], k, h, playerBids, playerValue, )\n",
    "        players.append(player)\n",
    "    return players\n",
    "\n",
    "def conductAuction(players, auction, n = 100):\n",
    "    # do the action n times\n",
    "    allBids = []\n",
    "    allWinners = []\n",
    "    for i in range(n):\n",
    "        bids = []\n",
    "        # generate bids\n",
    "        for count, player in enumerate(players):\n",
    "            bids.append(player.getAction())\n",
    "        print(bids)\n",
    "        allBids.append(bids)\n",
    "        # conduct auction\n",
    "        roundBids, winningBid, winner = auction.generate(bids)\n",
    "        allWinners.append(winner)\n",
    "        # update payoffs\n",
    "        for count, player in enumerate(players):\n",
    "            oppositionBids = roundBids\n",
    "            oppositionBids[count] = 0\n",
    "            bidToBeat = max(oppositionBids)\n",
    "            if count == winner:\n",
    "                payoffs = player.generatePayoffs(bidToBeat, winningBid, True)\n",
    "            else:\n",
    "                payoffs = player.generatePayoffs(bidToBeat, winningBid, False)\n",
    "            player.update(payoffs)\n",
    "            #print(payoffs)\n",
    "    return allBids, allWinners"
   ]
  },
  {
   "cell_type": "code",
   "execution_count": 251,
   "metadata": {},
   "outputs": [
    {
     "name": "stdout",
     "output_type": "stream",
     "text": [
      "4.25106895378409\n",
      "0.04605170185988092\n",
      "[0.0, 0.1871503671351844, 0.3660615689452196, 0.5370963289785249, 0.7006014021304594, 0.8569082776522161, 1.0063338512102376, 1.1491810673586769, 1.2857395337274582, 1.4162861081711315, 1.541085460068902, 1.6603906069138206, 1.774443427279004, 1.883475151200868, 1.9877068289735877, 2.0873497793051974, 2.182606017743933, 2.2736686662434, 2.360722344696919, 2.4439435452348444, 2.523500990043699, 2.59955597343257, 2.672262688840275, 2.7417685414462527, 2.808214447018985, 2.87173511760782, 2.9324593346574126, 2.9905102100984884, 3.0460054359442674, 3.0990575228985815, 3.1497740284594324, 3.1982577749804477, 3.244607058132333, 3.288915846186954, 3.3312739705280743, 3.371767307774988, 3.4104779538882886, 3.44748439061075, 3.4828616445807627, 3.516681439440914, 3.549012341250088, 3.579919897493904, 3.609466769975314, 3.6377128618547845, 3.664715439097619, 3.690529246574653, 3.7152066190516893, 3.738797587292704, 3.7613499794919334, 3.782909518240478]\n"
     ]
    }
   ],
   "source": [
    "playerBids = []\n",
    "playerValue = random.uniform(min,h)\n",
    "stepSize = np.log(h) / k\n",
    "print(playerValue)\n",
    "print(stepSize)\n",
    "for j in range(k):\n",
    "    playerBids.append(playerValue - ((1 + stepSize)**(-j))*playerValue)\n",
    "print(playerBids)"
   ]
  },
  {
   "cell_type": "code",
   "execution_count": 252,
   "metadata": {},
   "outputs": [
    {
     "name": "stdout",
     "output_type": "stream",
     "text": [
      "[6.06228272696871, 2.2256786202950276]\n",
      "[5.80543086636734, 2.087183687509475]\n",
      "[0.3868965631068253, 1.3622048990466207]\n",
      "[7.629443123205702, 1.0835712545608271]\n",
      "[7.050492174337336, 1.6468372696648623]\n",
      "[6.511538100771323, 2.1463471635880875]\n",
      "[6.799186433431707, 2.2949870370011958]\n",
      "[7.050492174337336, 1.8740949335629424]\n",
      "[6.799186433431707, 2.2004160446100123]\n",
      "[2.658013522839653, 0.0]\n",
      "[8.788248684338184, 2.7742484812283044]\n",
      "[22.7281726   1.41204358]\n",
      "[[0, 0, 1, 0, 0, 0, 0, 0, 0, 0]]\n",
      "[[[0, 0, 0], [0, 0, 0], [0, 0, 0], [0, 0, 0], [0, 0, 0], [0, 0, 0], [0, 0, 0], [0, 0, 0], [0, 0, 0], [0, 0, 0]]]\n"
     ]
    }
   ],
   "source": [
    "MCBound = 1\n",
    "n = 10\n",
    "reserveFrac = 0 #between 0 and 1\n",
    "reserveValue = reserveFrac * h\n",
    "# set up players\n",
    "players = setUpPlayers()\n",
    "# set up the auction \n",
    "auction = FirstPriceReserve(2, reserveValue)\n",
    "\n",
    "values = []\n",
    "totalWinnings = [[], []]\n",
    "possibleBids = []\n",
    "for player in players:\n",
    "    values.append(player.getValue())\n",
    "    possibleBids.append(player.getBids())\n",
    "\n",
    "MCBids = []\n",
    "MCWinners = []\n",
    "for i in range(MCBound):\n",
    "    # conduct auction\n",
    "    allBids, allWinners = conductAuction(players, auction, n)\n",
    "    for count, player in enumerate(players):\n",
    "        totalWinnings[count].append(player.getTotalValue())\n",
    "    # reset players -> they keep same learning rate and values\n",
    "    for player in players:\n",
    "        player.reset()\n",
    "    MCBids.append(allBids)\n",
    "    MCWinners.append(allWinners)\n",
    "avgBids = np.array(MCBids)\n",
    "avgBids = np.mean(avgBids, 0)\n",
    "totalWinnings = np.mean(np.array(totalWinnings), 1)\n",
    "\n",
    "print(values)\n",
    "print(totalWinnings)\n",
    "print(MCWinners)\n",
    "print(MCBids)"
   ]
  },
  {
   "cell_type": "code",
   "execution_count": 253,
   "metadata": {},
   "outputs": [
    {
     "data": {
      "image/png": "[encoded data removed]",
      "text/plain": [
       "<Figure size 700x700 with 1 Axes>"
      ]
     },
     "metadata": {},
     "output_type": "display_data"
    }
   ],
   "source": [
    "f = plt.figure()\n",
    "f.set_figwidth(7)\n",
    "f.set_figheight(7)\n",
    "\n",
    "newBids = [[], []]\n",
    "for i in range(n):\n",
    "    newBids[0].append(avgBids[i][0])\n",
    "    newBids[1].append(avgBids[i][1])\n",
    "\n",
    "plt.plot(np.arange(n), newBids[0], label = \"Value = \" + str(values[0]))\n",
    "plt.plot(np.arange(n), newBids[1], label = \"Value = \" + str(values[1]))\n",
    "plt.title('Bid Values over Rounds')\n",
    "plt.xlabel('Round')\n",
    "plt.ylabel('Bid Value')\n",
    "plt.legend()\n",
    "plt.show()\n",
    "# f.savefig('RegretvRoundAf.png')"
   ]
  },
  {
   "cell_type": "code",
   "execution_count": 3,
   "metadata": {},
   "outputs": [],
   "source": [
    "def MonteCarlo(numTrials, payoffGenerator, epsilon, k, h, n):\n",
    "    avgFinalPayoff = 0\n",
    "    avgRegretPerRound = [[] for i in range(numTrials)]\n",
    "    for trial in range(numTrials):\n",
    "        alg = EWAlg(epsilon, k, h)\n",
    "        finalPayoff = 0\n",
    "        actionPayoffs = np.zeros(k)\n",
    "        generator = payoffGenerator(k)\n",
    "        regretPerRound = np.zeros(n)\n",
    "        for i in range(n):\n",
    "            payoffs = generator.generate()\n",
    "            j = alg.getAction()\n",
    "            myPayoff = payoffs[j]\n",
    "            actionPayoffs += payoffs\n",
    "            alg.update(payoffs)\n",
    "            finalPayoff += myPayoff\n",
    "            OPT = max(actionPayoffs)\n",
    "            regret = (OPT - finalPayoff).item() / (i+1)\n",
    "            regretPerRound[i] = regret\n",
    "        avgFinalPayoff += finalPayoff\n",
    "        avgRegretPerRound[trial] = regretPerRound\n",
    "    return avgFinalPayoff/numTrials, np.mean(avgRegretPerRound, axis=0)"
   ]
  },
  {
   "cell_type": "code",
   "execution_count": 3,
   "metadata": {},
   "outputs": [],
   "source": [
    "def MonteCarloTrackActions(numTrials, payoffGenerator, epsilon, k, h, n):\n",
    "    avgFinalPayoff = 0\n",
    "    avgRegretPerRound = [[] for i in range(numTrials)]\n",
    "    actionTrial = []\n",
    "    for trial in range(numTrials):\n",
    "        alg = EWAlg(epsilon, k, h)\n",
    "        finalPayoff = 0\n",
    "        actionPayoffs = np.zeros(k)\n",
    "        generator = payoffGenerator(k)\n",
    "        regretPerRound = np.zeros(n)\n",
    "        actions = np.zeros(n)\n",
    "        for i in range(n):\n",
    "            payoffs = generator.generate()\n",
    "            j = alg.getAction()\n",
    "            actions[i] = j\n",
    "            myPayoff = payoffs[j]\n",
    "            actionPayoffs += payoffs\n",
    "            alg.update(payoffs)\n",
    "            finalPayoff += myPayoff\n",
    "            OPT = max(actionPayoffs)\n",
    "            regret = (OPT - finalPayoff).item() / (i+1)\n",
    "            regretPerRound[i] = regret\n",
    "        actionTrial.append(actions)\n",
    "        avgFinalPayoff += finalPayoff\n",
    "        avgRegretPerRound[trial] = regretPerRound\n",
    "    return avgFinalPayoff/numTrials, np.mean(avgRegretPerRound, axis=0), np.array(actionTrial)"
   ]
  },
  {
   "attachments": {},
   "cell_type": "markdown",
   "metadata": {},
   "source": [
    "## Adversarial Fair Payoffs"
   ]
  },
  {
   "attachments": {},
   "cell_type": "markdown",
   "metadata": {},
   "source": [
    "In each round i:\n",
    "\n",
    "Draw a payoff x ~ U[0,1] (i.e., from the uniform distribution on interval [0,1])\n",
    "\n",
    "Assign this payoff to the action j* that has the smallest total payoff so far, i.e., j* = argminj Vji-1 where Vji = Σir=1 vji. \n",
    "(All other actions get 0 payoff in round i.)"
   ]
  },
  {
   "cell_type": "code",
   "execution_count": 202,
   "metadata": {},
   "outputs": [
    {
     "name": "stdout",
     "output_type": "stream",
     "text": [
      "[-0.99, -0.5, 0, 0.1, 0.1517, 0.2, 0.4, 0.7, 1, 2, 10, 1000]\n",
      "[12.572066468624602, 6.089115420080595, 4.952127590364313, 4.888985005026019, 4.662385648248368, 4.658095671678926, 4.491083295527148, 4.237502645046786, 3.988782430758382, 3.551178754492665, 2.1475778776821812, 0.3206374990307352]\n",
      "[-0.07164880805723829, -0.0066178097291542375, 0.0044772387027638095, 0.005445673155832275, 0.007507744684371933, 0.007499525986132154, 0.0091217183309684, 0.011695349045173858, 0.014306945820161048, 0.01850769358056152, 0.03260957846953832, 0.05091754046141372]\n"
     ]
    }
   ],
   "source": [
    "h = 1 # fixed\n",
    "# hyperparameters\n",
    "k = 10\n",
    "n = 100\n",
    "epsilons = [-0.99, -0.5, 0, 0.1, 0.1517, 0.2, 0.4, 0.7, 1, 2, 10, 1000] # to be studied\n",
    "monteCarloBound = 1000\n",
    "\n",
    "AFEpsilonPayoffs = []\n",
    "AFEpsilonRegretPerRound = []\n",
    "for epsilon in epsilons:\n",
    "    finalPayoff, regretPerRound = MonteCarlo(monteCarloBound, AdversarialFair, epsilon, k, h, n)\n",
    "    AFEpsilonPayoffs.append(finalPayoff)\n",
    "    AFEpsilonRegretPerRound.append(regretPerRound)\n",
    "\n",
    "AFEpsilonAvgRegrets = [i[99] for i in AFEpsilonRegretPerRound]\n",
    "print(epsilons)\n",
    "print(AFEpsilonPayoffs)\n",
    "print(AFEpsilonAvgRegrets)"
   ]
  }
 ],
 "metadata": {
  "kernelspec": {
   "display_name": "Python 3",
   "language": "python",
   "name": "python3"
  },
  "language_info": {
   "codemirror_mode": {
    "name": "ipython",
    "version": 3
   },
   "file_extension": ".py",
   "mimetype": "text/x-python",
   "name": "python",
   "nbconvert_exporter": "python",
   "pygments_lexer": "ipython3",
   "version": "3.10.2"
  },
  "orig_nbformat": 4,
  "vscode": {
   "interpreter": {
    "hash": "aee8b7b246df8f9039afb4144a1f6fd8d2ca17a180786b69acc140d282b71a49"
   }
  }
 },
 "nbformat": 4,
 "nbformat_minor": 2
}
