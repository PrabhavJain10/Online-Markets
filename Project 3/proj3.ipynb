{
 "cells": [
  {
   "cell_type": "code",
   "execution_count": 1,
   "metadata": {},
   "outputs": [],
   "source": [
    "import pandas as pd\n",
    "import numpy as np\n",
    "import matplotlib.pyplot as plt\n",
    "import random\n",
    "import math"
   ]
  },
  {
   "attachments": {},
   "cell_type": "markdown",
   "metadata": {},
   "source": [
    "# Part 1: Outcomes from No-regret Learning in Games"
   ]
  },
  {
   "cell_type": "markdown",
   "metadata": {},
   "source": [
    "## Set Up and Algorithm Definition"
   ]
  },
  {
   "cell_type": "code",
   "execution_count": 2,
   "metadata": {},
   "outputs": [],
   "source": [
    "class EWAlg:\n",
    "    def __init__(self, epsilon, k, h, myBids, myValue):\n",
    "        self.weights = np.ones(k)\n",
    "        self.payoffs = np.zeros(k)\n",
    "        self.h = h\n",
    "        self.k = k\n",
    "        self.epsilon = epsilon\n",
    "        self.sumWeights = np.sum(self.weights)\n",
    "        self.probs = self.weights/self.sumWeights\n",
    "        self.myValue = myValue\n",
    "        self.myBids = myBids\n",
    "        self.myTotalValue = 0\n",
    "\n",
    "    def getBids(self):\n",
    "        return self.myBids\n",
    "\n",
    "    def getValue(self):\n",
    "        return self.myValue\n",
    "\n",
    "    def getTotalValue(self):\n",
    "        return self.myTotalValue\n",
    "\n",
    "    def getAction(self):\n",
    "        j = np.random.choice(self.k, 1, p = self.probs)\n",
    "        return self.myBids[j.item()]\n",
    "    \n",
    "    def update(self, payoffs):\n",
    "        for j in range(len(payoffs)):\n",
    "            curPayoff = payoffs[j]\n",
    "            self.payoffs[j] = self.payoffs[j] + curPayoff\n",
    "            newWeight = (1+self.epsilon)**(self.payoffs[j]/self.h)\n",
    "            self.weights[j] = newWeight\n",
    "        self.sumWeights = np.sum(self.weights)\n",
    "        if(self.epsilon > 1):\n",
    "            self.weights = self.weights/self.sumWeights\n",
    "            self.sumWeights = np.sum(self.weights)\n",
    "        self.probs = self.weights/self.sumWeights\n",
    "        return\n",
    "\n",
    "    def generatePayoffs(self, bidToBeat, winningBid, meWin):\n",
    "        if meWin:\n",
    "            self.myTotalValue += self.myValue - winningBid\n",
    "        payoffs = np.zeros(self.k)\n",
    "        for count, bid in enumerate(self.myBids):\n",
    "            if bid >= bidToBeat:\n",
    "                payoffs[count] = self.myValue - bid\n",
    "            else:\n",
    "                payoffs[count] = 0\n",
    "        return payoffs\n",
    "    \n",
    "    def reset(self):\n",
    "        self.weights = np.ones(self.k)\n",
    "        self.payoffs = np.zeros(self.k)\n",
    "        self.sumWeights = np.sum(self.weights)\n",
    "        self.probs = self.weights/self.sumWeights\n",
    "        self.myTotalValue = 0\n"
   ]
  },
  {
   "cell_type": "code",
   "execution_count": 44,
   "metadata": {},
   "outputs": [],
   "source": [
    "class FirstPriceReserve:\n",
    "    # bidders have to be ordered the same way every time\n",
    "    # reserve given as a raw value\n",
    "    def __init__(self, numBidders, reserve = 0):\n",
    "        self.numBidders = numBidders\n",
    "        self.totalPayoffs = np.zeros(self.numBidders)\n",
    "        self.reserve = reserve\n",
    "        \n",
    "    def generate(self, bids):\n",
    "        winningBid = 0\n",
    "        winner = -1\n",
    "        tiedBidders = []\n",
    "        tied = False\n",
    "        generatedBids = bids\n",
    "        generatedBids.append(self.reserve)\n",
    "        # check bids of all bidders\n",
    "        for count, bid in enumerate(bids):\n",
    "            if bid > winningBid:\n",
    "                winningBid = bid\n",
    "                winner = count\n",
    "            elif (bid == winningBid) and (winner != -1):\n",
    "                tiedBidders.append(count)\n",
    "                tied = True\n",
    "        if tied : winner = random.choice(tiedBidders)\n",
    "        # see if winning bid is greater than reserve price\n",
    "        if (winningBid < self.reserve): \n",
    "            winningBid = self.reserve\n",
    "            winner = -1\n",
    "        return [generatedBids, winningBid, winner]"
   ]
  },
  {
   "cell_type": "code",
   "execution_count": 79,
   "metadata": {},
   "outputs": [],
   "source": [
    "numPlayers = 2\n",
    "n = 500\n",
    "epsilons = [0.0774,0.0774]\n",
    "h = 10\n",
    "min = 1\n",
    "k = 50\n",
    "stepSize = np.log(h) / k\n",
    "\n",
    "def setUpPlayers() :\n",
    "    # set up our players\n",
    "    players = []\n",
    "    for count in range(numPlayers):\n",
    "    # pick a distribution and numPlayers values from it\n",
    "        playerValue = random.uniform(min,h)\n",
    "        # create possible bids using geometric discretization\n",
    "        playerBids = []\n",
    "        for j in range(k):\n",
    "            playerBids.append(playerValue - ((1 + stepSize)**(-j))*playerValue)\n",
    "        # create player\n",
    "        player = EWAlg(epsilons[count], k, h, playerBids, playerValue, )\n",
    "        players.append(player)\n",
    "    return players\n",
    "\n",
    "def conductAuction(players, auction, n = 100):\n",
    "    # print(\"WE ARE IN conductAuction\")\n",
    "    # do the action n times\n",
    "    allBidsCA = []\n",
    "    allWinners = []\n",
    "    for i in range(n):\n",
    "        # print(\"round\", i)\n",
    "        bids = []\n",
    "        # generate bids\n",
    "        for count, player in enumerate(players):\n",
    "            bids.append(player.getAction())\n",
    "        # print(\"the bids are\", bids)\n",
    "        currbids = bids.copy()\n",
    "        \n",
    "        \n",
    "        # conduct auction\n",
    "        # print(\"running auction.generate\")\n",
    "        # roundBids, winningBid, winner = auction.generate(bids)\n",
    "        results = auction.generate(currbids) #<-- somehow an extra 0 is getting added to the list\n",
    "        roundBids = results[0]\n",
    "        winningBid = results[1]\n",
    "        winner = results[2]\n",
    "        allWinners.append(winner)\n",
    "        # update payoffs\n",
    "        for count, player in enumerate(players):\n",
    "            oppositionBids = roundBids\n",
    "            oppositionBids[count] = 0\n",
    "            bidToBeat = max(oppositionBids)\n",
    "            if count == winner:\n",
    "                payoffs = player.generatePayoffs(bidToBeat, winningBid, True)\n",
    "            else:\n",
    "                payoffs = player.generatePayoffs(bidToBeat, winningBid, False)\n",
    "            player.update(payoffs)\n",
    "            #print(payoffs)\n",
    "        # print(\"allBidsCA is now \", allBidsCA)\n",
    "        # print(\"appending bids to allBidsCA now\")\n",
    "        # print(\"the bids are\", bids)\n",
    "        allBidsCA.append(bids)\n",
    "        # print(\"at the end of the round, allBidsCA is now\", allBidsCA)\n",
    "    # print(\"final allBids is \", allBidsCA)\n",
    "    return allBidsCA, allWinners"
   ]
  },
  {
   "cell_type": "code",
   "execution_count": 80,
   "metadata": {},
   "outputs": [
    {
     "name": "stdout",
     "output_type": "stream",
     "text": [
      "7.498493088234344\n",
      "0.04605170185988092\n",
      "[0.0, 0.33011596605002413, 0.6456988052759209, 0.9473883285229956, 1.2357961794071057, 1.511507074357442, 1.7750799880672732, 2.0270492867560446, 2.267925811540403, 2.4981979141105537, 2.7183324468116874, 2.928775709137759, 3.1299543525565356, 3.322276245500335, 3.506131300276166, 3.6818922635717057, 3.849915472159806, 4.01054157533363, 4.164096225537087, 4.3108907385907305, 4.4512227248516805, 4.585376692587156, 4.713624624784913, 4.836226530570003, 4.953430972345782, 5.065475569727907, 5.172587481292995, 5.274983865118616, 5.372872319048341, 5.466451301574423, 5.555910534191415, 5.641431386036436, 5.723187241595931, 5.801343852224386, 5.876059672187676, 5.947486179912337, 6.015768185092066, 6.081044122274065, 6.143446331520452, 6.203101326713744, 6.2601300520503855, 6.314648127242313, 6.366766081923705, 6.416589579738132, 6.464219632560416, 6.509752805287538, 6.553281411613748, 6.59489370118683, 6.634674038524934, 6.6727030740567095]\n"
     ]
    }
   ],
   "source": [
    "playerBids = []\n",
    "playerValue = random.uniform(min,h)\n",
    "stepSize = np.log(h) / k\n",
    "print(playerValue)\n",
    "print(stepSize)\n",
    "for j in range(k):\n",
    "    playerBids.append(playerValue - ((1 + stepSize)**(-j))*playerValue)\n",
    "print(playerBids)"
   ]
  },
  {
   "cell_type": "code",
   "execution_count": 85,
   "metadata": {},
   "outputs": [],
   "source": [
    "MCBound = 100\n",
    "n = 1000\n",
    "reserveFrac = 0 #between 0 and 1\n",
    "reserveValue = reserveFrac * h\n",
    "# set up players\n",
    "players = setUpPlayers()\n",
    "# set up the auction \n",
    "auction = FirstPriceReserve(2, reserveValue)\n",
    "\n",
    "values = []\n",
    "totalWinnings = [[], []]\n",
    "possibleBids = []\n",
    "for player in players:\n",
    "    values.append(player.getValue())\n",
    "    possibleBids.append(player.getBids())\n",
    "\n",
    "MCBids = []\n",
    "MCWinners = []\n",
    "for i in range(MCBound):\n",
    "    # conduct auction\n",
    "    allBids, allWinners = conductAuction(players, auction, n)\n",
    "    # print(\"all bids = \", allBids)\n",
    "    for count, player in enumerate(players):\n",
    "        totalWinnings[count].append(player.getTotalValue())\n",
    "    # reset players -> they keep same learning rate and values\n",
    "    for player in players:\n",
    "        player.reset()\n",
    "    MCBids.append(allBids)\n",
    "    MCWinners.append(allWinners)\n",
    "avgBids = np.array(MCBids)\n",
    "avgBids = np.mean(avgBids, 0)\n",
    "totalWinnings = np.mean(np.array(totalWinnings), 1)\n",
    "\n",
    "# print(values)\n",
    "# print(totalWinnings)\n",
    "# print(MCWinners)\n",
    "# print(MCBids)"
   ]
  },
  {
   "cell_type": "code",
   "execution_count": 86,
   "metadata": {},
   "outputs": [
    {
     "data": {
      "image/png": "[encoded data removed]",
      "text/plain": [
       "<Figure size 504x504 with 1 Axes>"
      ]
     },
     "metadata": {
      "needs_background": "light"
     },
     "output_type": "display_data"
    }
   ],
   "source": [
    "f = plt.figure()\n",
    "f.set_figwidth(7)\n",
    "f.set_figheight(7)\n",
    "\n",
    "newBids = [[], []]\n",
    "for i in range(n):\n",
    "    newBids[0].append(avgBids[i][0])\n",
    "    newBids[1].append(avgBids[i][1])\n",
    "\n",
    "plt.plot(np.arange(n), newBids[0], label = \"Value = \" + str(values[0]))\n",
    "plt.plot(np.arange(n), newBids[1], label = \"Value = \" + str(values[1]))\n",
    "plt.title('Bid Values over Rounds')\n",
    "plt.xlabel('Round')\n",
    "plt.ylabel('Bid Value')\n",
    "plt.legend()\n",
    "plt.show()\n",
    "# f.savefig('RegretvRoundAf.png')"
   ]
  },
  {
   "cell_type": "code",
   "execution_count": 8,
   "metadata": {},
   "outputs": [],
   "source": [
    "def MonteCarlo(numTrials, payoffGenerator, epsilon, k, h, n):\n",
    "    avgFinalPayoff = 0\n",
    "    avgRegretPerRound = [[] for i in range(numTrials)]\n",
    "    for trial in range(numTrials):\n",
    "        alg = EWAlg(epsilon, k, h)\n",
    "        finalPayoff = 0\n",
    "        actionPayoffs = np.zeros(k)\n",
    "        generator = payoffGenerator(k)\n",
    "        regretPerRound = np.zeros(n)\n",
    "        for i in range(n):\n",
    "            payoffs = generator.generate()\n",
    "            j = alg.getAction()\n",
    "            myPayoff = payoffs[j]\n",
    "            actionPayoffs += payoffs\n",
    "            alg.update(payoffs)\n",
    "            finalPayoff += myPayoff\n",
    "            OPT = max(actionPayoffs)\n",
    "            regret = (OPT - finalPayoff).item() / (i+1)\n",
    "            regretPerRound[i] = regret\n",
    "        avgFinalPayoff += finalPayoff\n",
    "        avgRegretPerRound[trial] = regretPerRound\n",
    "    return avgFinalPayoff/numTrials, np.mean(avgRegretPerRound, axis=0)"
   ]
  },
  {
   "cell_type": "code",
   "execution_count": 9,
   "metadata": {},
   "outputs": [],
   "source": [
    "def MonteCarloTrackActions(numTrials, payoffGenerator, epsilon, k, h, n):\n",
    "    avgFinalPayoff = 0\n",
    "    avgRegretPerRound = [[] for i in range(numTrials)]\n",
    "    actionTrial = []\n",
    "    for trial in range(numTrials):\n",
    "        alg = EWAlg(epsilon, k, h)\n",
    "        finalPayoff = 0\n",
    "        actionPayoffs = np.zeros(k)\n",
    "        generator = payoffGenerator(k)\n",
    "        regretPerRound = np.zeros(n)\n",
    "        actions = np.zeros(n)\n",
    "        for i in range(n):\n",
    "            payoffs = generator.generate()\n",
    "            j = alg.getAction()\n",
    "            actions[i] = j\n",
    "            myPayoff = payoffs[j]\n",
    "            actionPayoffs += payoffs\n",
    "            alg.update(payoffs)\n",
    "            finalPayoff += myPayoff\n",
    "            OPT = max(actionPayoffs)\n",
    "            regret = (OPT - finalPayoff).item() / (i+1)\n",
    "            regretPerRound[i] = regret\n",
    "        actionTrial.append(actions)\n",
    "        avgFinalPayoff += finalPayoff\n",
    "        avgRegretPerRound[trial] = regretPerRound\n",
    "    return avgFinalPayoff/numTrials, np.mean(avgRegretPerRound, axis=0), np.array(actionTrial)"
   ]
  },
  {
   "attachments": {},
   "cell_type": "markdown",
   "metadata": {},
   "source": [
    "## Adversarial Fair Payoffs"
   ]
  },
  {
   "attachments": {},
   "cell_type": "markdown",
   "metadata": {},
   "source": [
    "In each round i:\n",
    "\n",
    "Draw a payoff x ~ U[0,1] (i.e., from the uniform distribution on interval [0,1])\n",
    "\n",
    "Assign this payoff to the action j* that has the smallest total payoff so far, i.e., j* = argminj Vji-1 where Vji = Σir=1 vji. \n",
    "(All other actions get 0 payoff in round i.)"
   ]
  },
  {
   "cell_type": "code",
   "execution_count": 10,
   "metadata": {},
   "outputs": [
    {
     "ename": "NameError",
     "evalue": "name 'AdversarialFair' is not defined",
     "output_type": "error",
     "traceback": [
      "\u001b[0;31m---------------------------------------------------------------------------\u001b[0m",
      "\u001b[0;31mNameError\u001b[0m                                 Traceback (most recent call last)",
      "\u001b[0;32m/var/folders/r2/zpk7_6mj6995g1gtd80hvc0w0000gn/T/ipykernel_58384/227290926.py\u001b[0m in \u001b[0;36m<cell line: 10>\u001b[0;34m()\u001b[0m\n\u001b[1;32m      9\u001b[0m \u001b[0mAFEpsilonRegretPerRound\u001b[0m \u001b[0;34m=\u001b[0m \u001b[0;34m[\u001b[0m\u001b[0;34m]\u001b[0m\u001b[0;34m\u001b[0m\u001b[0;34m\u001b[0m\u001b[0m\n\u001b[1;32m     10\u001b[0m \u001b[0;32mfor\u001b[0m \u001b[0mepsilon\u001b[0m \u001b[0;32min\u001b[0m \u001b[0mepsilons\u001b[0m\u001b[0;34m:\u001b[0m\u001b[0;34m\u001b[0m\u001b[0;34m\u001b[0m\u001b[0m\n\u001b[0;32m---> 11\u001b[0;31m     \u001b[0mfinalPayoff\u001b[0m\u001b[0;34m,\u001b[0m \u001b[0mregretPerRound\u001b[0m \u001b[0;34m=\u001b[0m \u001b[0mMonteCarlo\u001b[0m\u001b[0;34m(\u001b[0m\u001b[0mmonteCarloBound\u001b[0m\u001b[0;34m,\u001b[0m \u001b[0mAdversarialFair\u001b[0m\u001b[0;34m,\u001b[0m \u001b[0mepsilon\u001b[0m\u001b[0;34m,\u001b[0m \u001b[0mk\u001b[0m\u001b[0;34m,\u001b[0m \u001b[0mh\u001b[0m\u001b[0;34m,\u001b[0m \u001b[0mn\u001b[0m\u001b[0;34m)\u001b[0m\u001b[0;34m\u001b[0m\u001b[0;34m\u001b[0m\u001b[0m\n\u001b[0m\u001b[1;32m     12\u001b[0m     \u001b[0mAFEpsilonPayoffs\u001b[0m\u001b[0;34m.\u001b[0m\u001b[0mappend\u001b[0m\u001b[0;34m(\u001b[0m\u001b[0mfinalPayoff\u001b[0m\u001b[0;34m)\u001b[0m\u001b[0;34m\u001b[0m\u001b[0;34m\u001b[0m\u001b[0m\n\u001b[1;32m     13\u001b[0m     \u001b[0mAFEpsilonRegretPerRound\u001b[0m\u001b[0;34m.\u001b[0m\u001b[0mappend\u001b[0m\u001b[0;34m(\u001b[0m\u001b[0mregretPerRound\u001b[0m\u001b[0;34m)\u001b[0m\u001b[0;34m\u001b[0m\u001b[0;34m\u001b[0m\u001b[0m\n",
      "\u001b[0;31mNameError\u001b[0m: name 'AdversarialFair' is not defined"
     ]
    }
   ],
   "source": [
    "h = 1 # fixed\n",
    "# hyperparameters\n",
    "k = 10\n",
    "n = 100\n",
    "epsilons = [-0.99, -0.5, 0, 0.1, 0.1517, 0.2, 0.4, 0.7, 1, 2, 10, 1000] # to be studied\n",
    "monteCarloBound = 1000\n",
    "\n",
    "AFEpsilonPayoffs = []\n",
    "AFEpsilonRegretPerRound = []\n",
    "for epsilon in epsilons:\n",
    "    finalPayoff, regretPerRound = MonteCarlo(monteCarloBound, AdversarialFair, epsilon, k, h, n)\n",
    "    AFEpsilonPayoffs.append(finalPayoff)\n",
    "    AFEpsilonRegretPerRound.append(regretPerRound)\n",
    "\n",
    "AFEpsilonAvgRegrets = [i[99] for i in AFEpsilonRegretPerRound]\n",
    "print(epsilons)\n",
    "print(AFEpsilonPayoffs)\n",
    "print(AFEpsilonAvgRegrets)"
   ]
  },
  {
   "cell_type": "code",
   "execution_count": null,
   "metadata": {},
   "outputs": [],
   "source": []
  }
 ],
 "metadata": {
  "kernelspec": {
   "display_name": "Python 3",
   "language": "python",
   "name": "python3"
  },
  "language_info": {
   "codemirror_mode": {
    "name": "ipython",
    "version": 3
   },
   "file_extension": ".py",
   "mimetype": "text/x-python",
   "name": "python",
   "nbconvert_exporter": "python",
   "pygments_lexer": "ipython3",
   "version": "3.9.12"
  },
  "orig_nbformat": 4,
  "vscode": {
   "interpreter": {
    "hash": "aee8b7b246df8f9039afb4144a1f6fd8d2ca17a180786b69acc140d282b71a49"
   }
  }
 },
 "nbformat": 4,
 "nbformat_minor": 2
}
